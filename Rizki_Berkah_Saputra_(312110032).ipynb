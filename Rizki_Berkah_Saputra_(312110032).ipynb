{
  "nbformat": 4,
  "nbformat_minor": 0,
  "metadata": {
    "colab": {
      "provenance": [],
      "authorship_tag": "ABX9TyPS2BxJIJ5fGijK4UVJ4/Eg",
      "include_colab_link": true
    },
    "kernelspec": {
      "name": "python3",
      "display_name": "Python 3"
    },
    "language_info": {
      "name": "python"
    }
  },
  "cells": [
    {
      "cell_type": "markdown",
      "metadata": {
        "id": "view-in-github",
        "colab_type": "text"
      },
      "source": [
        "<a href=\"https://colab.research.google.com/github/WhoIam969/Enkripsi_Data/blob/main/Rizki_Berkah_Saputra_(312110032).ipynb\" target=\"_parent\"><img src=\"https://colab.research.google.com/assets/colab-badge.svg\" alt=\"Open In Colab\"/></a>"
      ]
    },
    {
      "cell_type": "markdown",
      "source": [
        "Caesar Cipher dengan ASCII\n",
        "---\n",
        "\n"
      ],
      "metadata": {
        "id": "lERZ9S24C3FA"
      }
    },
    {
      "cell_type": "code",
      "source": [
        "def caesar_cipher(text, shift):\n",
        "    result = \"\"\n",
        "    for char in text:\n",
        "        # Periksa apakah karakter adalah huruf alfabet\n",
        "        if char.isalpha():\n",
        "            # Tentukan apakah karakter adalah huruf besar atau kecil\n",
        "            if char.isupper():\n",
        "                # Enkripsi huruf besar\n",
        "                result += chr(((ord(char) - 65 + shift) % 26) + 65)\n",
        "            else:\n",
        "                # Enkripsi huruf kecil\n",
        "                result += chr(((ord(char) - 97 + shift) % 26) + 97)\n",
        "        else:\n",
        "            # Tambahkan karakter non-alfabet tanpa perubahan\n",
        "            result += char\n",
        "    return result\n",
        "\n",
        "# Input teks yang akan dienkripsi\n",
        "plaintext = input(\"Masukkan teks yang akan dienkripsi: \")\n",
        "# Input jumlah pergeseran\n",
        "shift = int(input(\"Masukkan jumlah pergeseran: \"))\n",
        "\n",
        "# Panggil fungsi caesar_cipher untuk mengenkripsi teks\n",
        "ciphertext = caesar_cipher(plaintext, shift)\n",
        "\n",
        "# Tampilkan teks terenkripsi\n",
        "print(\"Teks terenkripsi:\", ciphertext)"
      ],
      "metadata": {
        "colab": {
          "base_uri": "https://localhost:8080/"
        },
        "id": "MD30DJ4lARQX",
        "outputId": "b75b711f-c21a-4799-8865-6b3070e764fd"
      },
      "execution_count": null,
      "outputs": [
        {
          "output_type": "stream",
          "name": "stdout",
          "text": [
            "Masukkan teks yang akan dienkripsi: Selamat Datang\n",
            "Masukkan jumlah pergeseran: 3\n",
            "Teks terenkripsi: Vhodpdw Gdwdqj\n"
          ]
        }
      ]
    },
    {
      "cell_type": "markdown",
      "source": [
        "# Caesar Cipher tanpa ASCII"
      ],
      "metadata": {
        "id": "WL26RLtWDZ1v"
      }
    },
    {
      "cell_type": "code",
      "source": [
        "def caesar_cipher(text, shift):\n",
        "    alphabet = 'ABCDEFGHIJKLMNOPQRSTUVWXYZ'\n",
        "    result = \"\"\n",
        "    for char in text:\n",
        "        if char.isalpha():\n",
        "            is_upper = char.isupper()\n",
        "            char = char.upper()\n",
        "            shifted_char = alphabet[(alphabet.index(char) + shift) % 26]\n",
        "            if not is_upper:\n",
        "                shifted_char = shifted_char.lower()\n",
        "            result += shifted_char\n",
        "        else:\n",
        "            result += char\n",
        "    return result\n",
        "\n",
        "text = input(\"Masukkan teks yang ingin dienkripsi: \")\n",
        "shift = int(input(\"Masukkan jumlah pergeseran: \"))\n",
        "\n",
        "encrypted_text = caesar_cipher(text, shift)\n",
        "print(\"Teks terenkripsi:\", encrypted_text)\n"
      ],
      "metadata": {
        "colab": {
          "base_uri": "https://localhost:8080/"
        },
        "id": "KK4BvBzjDJJC",
        "outputId": "a6ad7057-57a1-4a87-b4d2-29f4bb583820"
      },
      "execution_count": null,
      "outputs": [
        {
          "output_type": "stream",
          "name": "stdout",
          "text": [
            "Masukkan teks yang ingin dienkripsi: Selamat Datang\n",
            "Masukkan jumlah pergeseran: 3\n",
            "Teks terenkripsi: Vhodpdw Gdwdqj\n"
          ]
        }
      ]
    },
    {
      "cell_type": "markdown",
      "source": [
        "# Caesar Cipher Enkripsi dan Dekripsi\n"
      ],
      "metadata": {
        "id": "930K8i_ZE8sp"
      }
    },
    {
      "cell_type": "code",
      "source": [
        "def caesar_cipher(text, shift):\n",
        "    result = \"\"\n",
        "\n",
        "    for char in text:\n",
        "        # Periksa apakah karakter adalah karakter ASCII\n",
        "        if 0 <= ord(char) <= 255:\n",
        "            # Hitung indeks baru setelah pergeseran\n",
        "            shifted_index = (ord(char) + shift) % 256\n",
        "\n",
        "            # Konversi kembali ke karakter ASCII\n",
        "            result += chr(shifted_index)\n",
        "        else:\n",
        "            # Jika karakter bukan karakter ASCII, tambahkan ke hasil tanpa perubahan\n",
        "            result += char\n",
        "\n",
        "    return result\n",
        "\n",
        "while True:\n",
        "    print(\"Pilih tindakan:\")\n",
        "    print(\"1. Enkripsi\")\n",
        "    print(\"2. Dekripsi\")\n",
        "    print(\"3. Keluar\")\n",
        "\n",
        "    choice = input(\"Masukkan pilihan (1/2/3): \")\n",
        "\n",
        "    if choice == '1':\n",
        "        text = input(\"Masukkan teks yang ingin Anda enkripsi: \")\n",
        "        shift = int(input(\"Masukkan jumlah pergeseran (contoh: 3): \"))\n",
        "        encrypted_text = caesar_cipher(text, shift)\n",
        "        print(\"Teks terenkripsi:\", encrypted_text)\n",
        "    elif choice == '2':\n",
        "        text = input(\"Masukkan teks yang ingin Anda dekripsi: \")\n",
        "        shift = int(input(\"Masukkan jumlah pergeseran (contoh: 3): \"))\n",
        "        decrypted_text = caesar_cipher(text, -shift)\n",
        "        print(\"Teks terdekripsi:\", decrypted_text)\n",
        "    elif choice == '3':\n",
        "        print(\"Terima kasih!\")\n",
        "        break\n",
        "    else:\n",
        "        print(\"Pilihan tidak valid. Silakan pilih 1, 2, atau 3.\")"
      ],
      "metadata": {
        "id": "qfdRBnL0E1wm",
        "colab": {
          "base_uri": "https://localhost:8080/"
        },
        "outputId": "37b96ff1-0a7b-4380-a2f9-6ba426252bf9"
      },
      "execution_count": 2,
      "outputs": [
        {
          "output_type": "stream",
          "name": "stdout",
          "text": [
            "Pilih tindakan:\n",
            "1. Enkripsi\n",
            "2. Dekripsi\n",
            "3. Keluar\n",
            "Masukkan pilihan (1/2/3): 1\n",
            "Masukkan teks yang ingin Anda enkripsi: Rizki\n",
            "Masukkan jumlah pergeseran (contoh: 3): 4\n",
            "Teks terenkripsi: Vm~om\n",
            "Pilih tindakan:\n",
            "1. Enkripsi\n",
            "2. Dekripsi\n",
            "3. Keluar\n",
            "Masukkan pilihan (1/2/3): 3\n",
            "Terima kasih!\n"
          ]
        }
      ]
    },
    {
      "cell_type": "markdown",
      "source": [
        "#**Program Cipher Vigenere**"
      ],
      "metadata": {
        "id": "3b-CXH4n7cqd"
      }
    },
    {
      "cell_type": "code",
      "source": [
        "# Fungsi untuk mengenkripsi teks dengan cipher Vigenere\n",
        "def encrypt(text, key):\n",
        "    encrypted_text = \"\"\n",
        "    key_length = len(key)\n",
        "\n",
        "    for i in range(len(text)):\n",
        "        char = text[i]\n",
        "        if char.isalpha():\n",
        "            shift = ord(key[i % key_length]) - ord('A')\n",
        "            if char.islower():\n",
        "                encrypted_char = chr(((ord(char) - ord('a') + shift) % 26) + ord('a'))\n",
        "            else:\n",
        "                encrypted_char = chr(((ord(char) - ord('A') + shift) % 26) + ord('A'))\n",
        "        else:\n",
        "            encrypted_char = char\n",
        "        encrypted_text += encrypted_char\n",
        "\n",
        "    return encrypted_text\n",
        "\n",
        "# Fungsi untuk mendekripsi teks dengan cipher Vigenere\n",
        "def decrypt(encrypted_text, key):\n",
        "    decrypted_text = \"\"\n",
        "    key_length = len(key)\n",
        "\n",
        "    for i in range(len(encrypted_text)):\n",
        "        char = encrypted_text[i]\n",
        "        if char.isalpha():\n",
        "            shift = ord(key[i % key_length]) - ord('A')\n",
        "            if char.islower():\n",
        "                decrypted_char = chr(((ord(char) - ord('a') - shift) % 26) + ord('a'))\n",
        "            else:\n",
        "                decrypted_char = chr(((ord(char) - ord('A') - shift) % 26) + ord('A'))\n",
        "        else:\n",
        "            decrypted_char = char\n",
        "        decrypted_text += decrypted_char\n",
        "\n",
        "    return decrypted_text\n",
        "\n",
        "# Fungsi untuk login\n",
        "def login(username, password):\n",
        "    # Ganti kunci berikut dengan kunci yang Anda inginkan\n",
        "    key = \"123\"\n",
        "\n",
        "    # Simpan username dan password yang telah dienkripsi\n",
        "    encrypted_username = encrypt(username, key)\n",
        "    encrypted_password = encrypt(password, key)\n",
        "\n",
        "    # Simpan username dan password yang benar\n",
        "    correct_username = encrypt(\"Rizki\", key)\n",
        "    correct_password = encrypt(\"123\", key)\n",
        "\n",
        "    # Periksa apakah username dan password yang dimasukkan benar\n",
        "    if encrypted_username == correct_username and encrypted_password == correct_password:\n",
        "        return True\n",
        "    else:\n",
        "        return False\n",
        "\n",
        "# Contoh penggunaan\n",
        "while True:\n",
        "    print(\"Selamat datang di sistem login Vigenere Cipher!\")\n",
        "    username = input(\"Masukkan username: \")\n",
        "    password = input(\"Masukkan password: \")\n",
        "\n",
        "    if login(username, password):\n",
        "        print(\"Login berhasil!\")\n",
        "        break\n",
        "    else:\n",
        "        print(\"Login gagal. Coba lagi.\")"
      ],
      "metadata": {
        "colab": {
          "base_uri": "https://localhost:8080/"
        },
        "id": "imfUccG67UAk",
        "outputId": "5d6abe74-3586-4538-fe1b-e811a50fa9af"
      },
      "execution_count": 3,
      "outputs": [
        {
          "output_type": "stream",
          "name": "stdout",
          "text": [
            "Selamat datang di sistem login Vigenere Cipher!\n",
            "Masukkan username: Rizki\n",
            "Masukkan password: 123\n",
            "Login berhasil!\n"
          ]
        }
      ]
    },
    {
      "cell_type": "markdown",
      "source": [
        "# **Program Poly Alphabet  Cipher**"
      ],
      "metadata": {
        "id": "F1VydKy48ZLv"
      }
    },
    {
      "cell_type": "code",
      "source": [
        "def encrypt_vigenere(plain_text, key):\n",
        "    encrypted_text = \"\"\n",
        "    key_length = len(key)\n",
        "    for i in range(len(plain_text)):\n",
        "        char = plain_text[i]\n",
        "        if char.isalpha():\n",
        "            key_char = key[i % key_length]\n",
        "            shift = ord(key_char.upper()) - ord('A')\n",
        "            if char.isupper():\n",
        "                encrypted_text += chr((ord(char) + shift - ord('A')) % 26 + ord('A'))\n",
        "            elif char.islower():\n",
        "                encrypted_text += chr((ord(char) + shift - ord('a')) % 26 + ord('a'))\n",
        "        else:\n",
        "            encrypted_text += char\n",
        "    return encrypted_text\n",
        "\n",
        "def decrypt_vigenere(encrypted_text, key):\n",
        "    decrypted_text = \"\"\n",
        "    key_length = len(key)\n",
        "    for i in range(len(encrypted_text)):\n",
        "        char = encrypted_text[i]\n",
        "        if char.isalpha():\n",
        "            key_char = key[i % key_length]\n",
        "            shift = ord(key_char.upper()) - ord('A')\n",
        "            if char.isupper():\n",
        "                decrypted_text += chr((ord(char) - shift - ord('A')) % 26 + ord('A'))\n",
        "            elif char.islower():\n",
        "                decrypted_text += chr((ord(char) - shift - ord('a')) % 26 + ord('a'))\n",
        "        else:\n",
        "            decrypted_text += char\n",
        "    return decrypted_text\n",
        "\n",
        "# Example usage:\n",
        "plaintext = \"HelloWorld\"\n",
        "key = \"KEY\"\n",
        "encrypted_text = encrypt_vigenere(plaintext, key)\n",
        "print(\"Encrypted:\", encrypted_text)\n",
        "\n",
        "decrypted_text = decrypt_vigenere(encrypted_text, key)\n",
        "print(\"Decrypted:\", decrypted_text)\n"
      ],
      "metadata": {
        "colab": {
          "base_uri": "https://localhost:8080/"
        },
        "id": "8PoUFaWW8Hrr",
        "outputId": "99886d3f-8c84-4557-c57e-39fa7c0c2133"
      },
      "execution_count": 8,
      "outputs": [
        {
          "output_type": "stream",
          "name": "stdout",
          "text": [
            "Encrypted: RijvsUyvjn\n",
            "Decrypted: HelloWorld\n"
          ]
        }
      ]
    },
    {
      "cell_type": "markdown",
      "source": [
        "# **Program Hill Cipher**"
      ],
      "metadata": {
        "id": "WcqE4nUw9sQT"
      }
    },
    {
      "cell_type": "code",
      "source": [
        "import numpy as np\n",
        "\n",
        "def text_to_matrix(text, n):\n",
        "    # Convert text to uppercase and remove non-alphabetic characters\n",
        "    cleaned_text = ''.join(char.upper() for char in text if char.isalpha())\n",
        "\n",
        "    # Pad the text with 'X' if necessary to make its length a multiple of n\n",
        "    while len(cleaned_text) % n != 0:\n",
        "        cleaned_text += 'X'\n",
        "\n",
        "    # Convert characters to numerical values (A=0, B=1, ..., Z=25)\n",
        "    numerical_values = [ord(char) - ord('A') for char in cleaned_text]\n",
        "\n",
        "    # Reshape the numerical values into an n x m matrix\n",
        "    matrix = np.array(numerical_values).reshape(-1, n)\n",
        "\n",
        "    return matrix\n",
        "\n",
        "def matrix_to_text(matrix):\n",
        "    # Convert numerical values to characters\n",
        "    numerical_values = matrix.flatten().tolist()\n",
        "    text = ''.join(chr(val + ord('A')) for val in numerical_values)\n",
        "    return text\n",
        "\n",
        "def encrypt_hill(plain_text, key_matrix):\n",
        "    plain_matrix = text_to_matrix(plain_text, len(key_matrix))\n",
        "    encrypted_matrix = (plain_matrix @ key_matrix) % 26\n",
        "    encrypted_text = matrix_to_text(encrypted_matrix)\n",
        "    return encrypted_text\n",
        "\n",
        "def decrypt_hill(encrypted_text, key_matrix):\n",
        "    key_matrix_inv = np.linalg.inv(key_matrix)\n",
        "    key_matrix_inv = np.round(key_matrix_inv * np.linalg.det(key_matrix)).astype(int) % 26\n",
        "    decrypted_matrix = (text_to_matrix(encrypted_text, len(key_matrix)) @ key_matrix_inv) % 26\n",
        "    decrypted_text = matrix_to_text(decrypted_matrix)\n",
        "    return decrypted_text\n",
        "\n",
        "# Get user input\n",
        "plain_text = input(\"Enter the plaintext: \").replace(\" \", \"\")\n",
        "key_matrix_str = input(\"Enter the key matrix (comma-separated, e.g., 6,24,1,13): \")\n",
        "key_matrix = np.array([int(num) for num in key_matrix_str.split(\",\")]).reshape(int(len(key_matrix_str)**0.5), -1)\n",
        "\n",
        "# Encrypt the input\n",
        "encrypted_text = encrypt_hill(plain_text, key_matrix)\n",
        "print(\"Encrypted text:\", encrypted_text)\n",
        "\n",
        "# Decrypt the encrypted text\n",
        "decrypted_text = decrypt_hill(encrypted_text, key_matrix)\n",
        "print(\"Decrypted text:\", decrypted_text)\n"
      ],
      "metadata": {
        "colab": {
          "base_uri": "https://localhost:8080/"
        },
        "id": "kEFMLr649qPJ",
        "outputId": "0c9e3a0c-e286-492a-f944-55ef4a05cdb2"
      },
      "execution_count": 6,
      "outputs": [
        {
          "output_type": "stream",
          "name": "stdout",
          "text": [
            "Enter the plaintext: Hello\n",
            "Enter the key matrix (comma-separated, e.g., 6,24,1,13): 6\n",
            "Encrypted text: QYOOG\n",
            "Decrypted text: QYOOG\n"
          ]
        }
      ]
    },
    {
      "cell_type": "markdown",
      "source": [
        "# **Program Play Fair  Cipher**"
      ],
      "metadata": {
        "id": "2MzLww01AEpO"
      }
    },
    {
      "cell_type": "code",
      "source": [
        "def prepare_text(text):\n",
        "    # Remove spaces and convert to uppercase\n",
        "    text = text.replace(\" \", \"\").upper()\n",
        "    # Replace 'J' with 'I' (convention)\n",
        "    text = text.replace(\"J\", \"I\")\n",
        "    # Split the text into digraphs\n",
        "    digraphs = [text[i:i+2] for i in range(0, len(text), 2)]\n",
        "    # Add an 'X' to the end if the length is odd\n",
        "    if len(digraphs[-1]) == 1:\n",
        "        digraphs[-1] += \"X\"\n",
        "    return digraphs\n",
        "\n",
        "def create_keytable(key):\n",
        "    key = key.upper()\n",
        "    keytable = \"\"\n",
        "    for letter in key:\n",
        "        if letter not in keytable and letter != 'J':\n",
        "            keytable += letter\n",
        "    alphabet = \"ABCDEFGHIKLMNOPQRSTUVWXYZ\"\n",
        "    for letter in alphabet:\n",
        "        if letter not in keytable:\n",
        "            keytable += letter\n",
        "    return keytable\n",
        "\n",
        "def encrypt(plaintext, key):\n",
        "    digraphs = prepare_text(plaintext)\n",
        "    keytable = create_keytable(key)\n",
        "    ciphertext = \"\"\n",
        "    for digraph in digraphs:\n",
        "        row1, col1 = divmod(keytable.index(digraph[0]), 5)\n",
        "        row2, col2 = divmod(keytable.index(digraph[1]), 5)\n",
        "\n",
        "        if row1 == row2:\n",
        "            ciphertext += keytable[row1 * 5 + (col1 + 1) % 5]\n",
        "            ciphertext += keytable[row2 * 5 + (col2 + 1) % 5]\n",
        "        elif col1 == col2:\n",
        "            ciphertext += keytable[(row1 + 1) % 5 * 5 + col1]\n",
        "            ciphertext += keytable[(row2 + 1) % 5 * 5 + col2]\n",
        "        else:\n",
        "            ciphertext += keytable[row1 * 5 + col2]\n",
        "            ciphertext += keytable[row2 * 5 + col1]\n",
        "\n",
        "    return ciphertext\n",
        "\n",
        "def decrypt(ciphertext, key):\n",
        "    keytable = create_keytable(key)\n",
        "    plaintext = \"\"\n",
        "    for i in range(0, len(ciphertext), 2):\n",
        "        letter1 = ciphertext[i]\n",
        "        letter2 = ciphertext[i + 1]\n",
        "        row1, col1 = divmod(keytable.index(letter1), 5)\n",
        "        row2, col2 = divmod(keytable.index(letter2), 5)\n",
        "\n",
        "        if row1 == row2:\n",
        "            plaintext += keytable[row1 * 5 + (col1 - 1) % 5]\n",
        "            plaintext += keytable[row2 * 5 + (col2 - 1) % 5]\n",
        "        elif col1 == col2:\n",
        "            plaintext += keytable[(row1 - 1) % 5 * 5 + col1]\n",
        "            plaintext += keytable[(row2 - 1) % 5 * 5 + col2]\n",
        "        else:\n",
        "            plaintext += keytable[row1 * 5 + col2]\n",
        "            plaintext += keytable[row2 * 5 + col1]\n",
        "\n",
        "    return plaintext\n",
        "\n",
        "key = input(\"Masukan Kunci :\")\n",
        "plaintext = input(\"Masukan Plaintext :\")\n",
        "ciphertext = encrypt(plaintext, key)\n",
        "print(\"Ciphertext:\", ciphertext)\n",
        "decrypted_text = decrypt(ciphertext, key)\n",
        "print(\"Decrypted Text:\", decrypted_text)\n"
      ],
      "metadata": {
        "colab": {
          "base_uri": "https://localhost:8080/"
        },
        "id": "kZEfnhtT_-S6",
        "outputId": "c8f80a62-a23d-4f7b-a94d-93eec5b70174"
      },
      "execution_count": 9,
      "outputs": [
        {
          "output_type": "stream",
          "name": "stdout",
          "text": [
            "Masukan Kunci :key\n",
            "Masukan Plaintext :Hello\n",
            "Ciphertext: DBMMNZ\n",
            "Decrypted Text: HELLOX\n"
          ]
        }
      ]
    },
    {
      "cell_type": "markdown",
      "source": [
        "# **Program Affine  Cipher**"
      ],
      "metadata": {
        "id": "x9He25ppA32D"
      }
    },
    {
      "cell_type": "code",
      "source": [
        "def egcd(a, b):\n",
        "    if a == 0:\n",
        "        return b, 0, 1\n",
        "    else:\n",
        "        g, x, y = egcd(b % a, a)\n",
        "        return g, y - (b // a) * x, x\n",
        "\n",
        "def modinv(a, m):\n",
        "    g, x, y = egcd(a, m)\n",
        "    if g != 1:\n",
        "        raise Exception('Modular inverse does not exist')\n",
        "    else:\n",
        "        return x % m\n",
        "\n",
        "def affine_encrypt(text, key):\n",
        "    result = \"\"\n",
        "    a, b, m = key\n",
        "    for char in text:\n",
        "        if char.isalpha():\n",
        "            # Enkripsi setiap karakter\n",
        "            if char.isupper():\n",
        "                result += chr((a * (ord(char) - ord('A')) + b) % m + ord('A'))\n",
        "            else:\n",
        "                result += chr((a * (ord(char) - ord('a')) + b) % m + ord('a'))\n",
        "        else:\n",
        "            result += char\n",
        "    return result\n",
        "\n",
        "def affine_decrypt(text, key):\n",
        "    result = \"\"\n",
        "    a, b, m = key\n",
        "    a_inv = modinv(a, m)\n",
        "    for char in text:\n",
        "        if char.isalpha():\n",
        "            # Dekripsi setiap karakter\n",
        "            if char.isupper():\n",
        "                result += chr((a_inv * (ord(char) - ord('A') - b)) % m + ord('A'))\n",
        "            else:\n",
        "                result += chr((a_inv * (ord(char) - ord('a') - b)) % m + ord('a'))\n",
        "        else:\n",
        "            result += char\n",
        "    return result\n",
        "\n",
        "def main():\n",
        "    text = input(\"Masukkan teks: \")\n",
        "    a = int(input(\"Masukkan nilai a (integer): \"))\n",
        "    b = int(input(\"Masukkan nilai b (integer): \"))\n",
        "    m = 26  # panjang alfabet Inggris\n",
        "\n",
        "    key = (a, b, m)\n",
        "\n",
        "    encrypted_text = affine_encrypt(text, key)\n",
        "    decrypted_text = affine_decrypt(encrypted_text, key)\n",
        "\n",
        "    print(\"\\nTeks Enkripsi: {}\".format(encrypted_text))\n",
        "    print(\"Teks Dekripsi: {}\".format(decrypted_text))\n",
        "\n",
        "if __name__ == \"__main__\":\n",
        "    main()\n"
      ],
      "metadata": {
        "colab": {
          "base_uri": "https://localhost:8080/"
        },
        "id": "kFpkumACAbG4",
        "outputId": "2405f161-bc03-46d0-e46f-185772eb507d"
      },
      "execution_count": 10,
      "outputs": [
        {
          "output_type": "stream",
          "name": "stdout",
          "text": [
            "Masukkan teks: Hello\n",
            "Masukkan nilai a (integer): 5\n",
            "Masukkan nilai b (integer): 8\n",
            "\n",
            "Teks Enkripsi: Rclla\n",
            "Teks Dekripsi: Hello\n"
          ]
        }
      ]
    }
  ]
}